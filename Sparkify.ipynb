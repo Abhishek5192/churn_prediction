{
 "cells": [
  {
   "cell_type": "markdown",
   "metadata": {},
   "source": [
    "# Sparkify Project Workspace\n",
    "This workspace contains a tiny subset (128MB) of the full dataset available (12GB). Feel free to use this workspace to build your project, or to explore a smaller subset with Spark before deploying your cluster on the cloud. Instructions for setting up your Spark cluster is included in the last lesson of the Extracurricular Spark Course content.\n",
    "\n",
    "You can follow the steps below to guide your data analysis and model building portion of this project."
   ]
  },
  {
   "cell_type": "code",
   "execution_count": 1,
   "metadata": {},
   "outputs": [],
   "source": [
    "# import libraries\n",
    "from pyspark.sql import SparkSession\n",
    "from pyspark.sql.functions import col, lit, udf, isnan, count, when, desc, sort_array, asc, avg, lag, floor\n",
    "from pyspark.sql.window import Window\n",
    "from pyspark.sql.types import IntegerType, DateType\n",
    "from pyspark.sql.functions import sum as Fsum\n",
    "import datetime"
   ]
  },
  {
   "cell_type": "code",
   "execution_count": 2,
   "metadata": {},
   "outputs": [],
   "source": [
    "# create a Spark session\n",
    "spark = SparkSession.builder.appName(\"spark_capstone\").getOrCreate()"
   ]
  },
  {
   "cell_type": "markdown",
   "metadata": {},
   "source": [
    "# Load and Clean Dataset\n",
    "Clean your dataset, checking for invalid or missing data. For example, records without userids or sessionids. In this workspace, the filename is `mini_sparkify_event_data.json`."
   ]
  },
  {
   "cell_type": "code",
   "execution_count": 3,
   "metadata": {},
   "outputs": [],
   "source": [
    "data = spark.read.json(\"mini_sparkify_event_data.json\")"
   ]
  },
  {
   "cell_type": "code",
   "execution_count": 4,
   "metadata": {},
   "outputs": [
    {
     "name": "stdout",
     "output_type": "stream",
     "text": [
      "root\n",
      " |-- artist: string (nullable = true)\n",
      " |-- auth: string (nullable = true)\n",
      " |-- firstName: string (nullable = true)\n",
      " |-- gender: string (nullable = true)\n",
      " |-- itemInSession: long (nullable = true)\n",
      " |-- lastName: string (nullable = true)\n",
      " |-- length: double (nullable = true)\n",
      " |-- level: string (nullable = true)\n",
      " |-- location: string (nullable = true)\n",
      " |-- method: string (nullable = true)\n",
      " |-- page: string (nullable = true)\n",
      " |-- registration: long (nullable = true)\n",
      " |-- sessionId: long (nullable = true)\n",
      " |-- song: string (nullable = true)\n",
      " |-- status: long (nullable = true)\n",
      " |-- ts: long (nullable = true)\n",
      " |-- userAgent: string (nullable = true)\n",
      " |-- userId: string (nullable = true)\n",
      "\n"
     ]
    }
   ],
   "source": [
    "data.printSchema()"
   ]
  },
  {
   "cell_type": "code",
   "execution_count": 5,
   "metadata": {},
   "outputs": [
    {
     "name": "stdout",
     "output_type": "stream",
     "text": [
      "8346 0\n"
     ]
    }
   ],
   "source": [
    "print(data.select(\"userId\").where(data.userId ==\"\").count(), \n",
    "      data.select(\"sessionId\").where(data.sessionId ==\"\").count())"
   ]
  },
  {
   "cell_type": "code",
   "execution_count": 6,
   "metadata": {},
   "outputs": [
    {
     "name": "stdout",
     "output_type": "stream",
     "text": [
      "286500 228108 286500\n"
     ]
    }
   ],
   "source": [
    "print(data.count(), data.dropna(how='any').count(), data.dropna(how='any', subset=['userId', 'sessionId']).count())\n",
    "#no NA values in these two columns. the rest of the columns could have 'null' values but depending on what user is\n",
    "#doing we do not always need to have every field filled"
   ]
  },
  {
   "cell_type": "code",
   "execution_count": 7,
   "metadata": {},
   "outputs": [],
   "source": [
    "df = data.where((data.userId != \"\") | (data.sessionId != \"\"))"
   ]
  },
  {
   "cell_type": "code",
   "execution_count": 8,
   "metadata": {},
   "outputs": [
    {
     "data": {
      "text/plain": [
       "278154"
      ]
     },
     "execution_count": 8,
     "metadata": {},
     "output_type": "execute_result"
    }
   ],
   "source": [
    "df.count()"
   ]
  },
  {
   "cell_type": "code",
   "execution_count": 9,
   "metadata": {},
   "outputs": [
    {
     "name": "stdout",
     "output_type": "stream",
     "text": [
      "+--------------------+\n",
      "|                page|\n",
      "+--------------------+\n",
      "|               About|\n",
      "|          Add Friend|\n",
      "|     Add to Playlist|\n",
      "|              Cancel|\n",
      "|Cancellation Conf...|\n",
      "|           Downgrade|\n",
      "|               Error|\n",
      "|                Help|\n",
      "|                Home|\n",
      "|              Logout|\n",
      "|            NextSong|\n",
      "|         Roll Advert|\n",
      "|       Save Settings|\n",
      "|            Settings|\n",
      "|    Submit Downgrade|\n",
      "|      Submit Upgrade|\n",
      "|         Thumbs Down|\n",
      "|           Thumbs Up|\n",
      "|             Upgrade|\n",
      "+--------------------+\n",
      "\n"
     ]
    }
   ],
   "source": [
    "df.select(\"page\").dropDuplicates().sort(\"page\").show()"
   ]
  },
  {
   "cell_type": "code",
   "execution_count": 10,
   "metadata": {},
   "outputs": [
    {
     "data": {
      "text/plain": [
       "Row(artist='Martha Tilston', auth='Logged In', firstName='Colin', gender='M', itemInSession=50, lastName='Freeman', length=277.89016, level='paid', location='Bakersfield, CA', method='PUT', page='NextSong', registration=1538173362000, sessionId=29, song='Rockpools', status=200, ts=1538352117000, userAgent='Mozilla/5.0 (Windows NT 6.1; WOW64; rv:31.0) Gecko/20100101 Firefox/31.0', userId='30')"
      ]
     },
     "execution_count": 10,
     "metadata": {},
     "output_type": "execute_result"
    }
   ],
   "source": [
    "df.collect()[0]"
   ]
  },
  {
   "cell_type": "code",
   "execution_count": 11,
   "metadata": {
    "scrolled": true
   },
   "outputs": [
    {
     "name": "stdout",
     "output_type": "stream",
     "text": [
      "Artist unique values: 17656\n",
      "+--------------------+\n",
      "|              artist|\n",
      "+--------------------+\n",
      "|                null|\n",
      "|                 !!!|\n",
      "|        & And Oceans|\n",
      "|'N Sync/Phil Collins|\n",
      "|        'Til Tuesday|\n",
      "+--------------------+\n",
      "only showing top 5 rows\n",
      "\n",
      "Auth unique values: 2\n",
      "+---------+\n",
      "|     auth|\n",
      "+---------+\n",
      "|Cancelled|\n",
      "|Logged In|\n",
      "+---------+\n",
      "\n",
      "Firstname unique values: 189\n",
      "+---------+\n",
      "|firstName|\n",
      "+---------+\n",
      "| Adelaida|\n",
      "|   Adrian|\n",
      "|  Adriana|\n",
      "|   Adriel|\n",
      "|  Ainsley|\n",
      "+---------+\n",
      "only showing top 5 rows\n",
      "\n",
      "Gender unique values: 2\n",
      "+------+\n",
      "|gender|\n",
      "+------+\n",
      "|     F|\n",
      "|     M|\n",
      "+------+\n",
      "\n",
      "Iteminsession unique values: 1311\n",
      "+-------------+\n",
      "|itemInSession|\n",
      "+-------------+\n",
      "|            0|\n",
      "|            1|\n",
      "|            2|\n",
      "|            3|\n",
      "|            4|\n",
      "+-------------+\n",
      "only showing top 5 rows\n",
      "\n",
      "Lastname unique values: 173\n",
      "+---------+\n",
      "| lastName|\n",
      "+---------+\n",
      "|    Adams|\n",
      "|  Aguilar|\n",
      "|Alexander|\n",
      "|    Allen|\n",
      "| Atkinson|\n",
      "+---------+\n",
      "only showing top 5 rows\n",
      "\n",
      "Length unique values: 14866\n",
      "+-------+\n",
      "| length|\n",
      "+-------+\n",
      "|   null|\n",
      "|0.78322|\n",
      "|2.16771|\n",
      "|4.04853|\n",
      "| 4.8322|\n",
      "+-------+\n",
      "only showing top 5 rows\n",
      "\n",
      "Level unique values: 2\n",
      "+-----+\n",
      "|level|\n",
      "+-----+\n",
      "| free|\n",
      "| paid|\n",
      "+-----+\n",
      "\n",
      "Location unique values: 114\n",
      "+--------------------+\n",
      "|            location|\n",
      "+--------------------+\n",
      "|          Albany, OR|\n",
      "|Albany-Schenectad...|\n",
      "|      Alexandria, LA|\n",
      "|Allentown-Bethleh...|\n",
      "|       Anchorage, AK|\n",
      "+--------------------+\n",
      "only showing top 5 rows\n",
      "\n",
      "Method unique values: 2\n",
      "+------+\n",
      "|method|\n",
      "+------+\n",
      "|   GET|\n",
      "|   PUT|\n",
      "+------+\n",
      "\n",
      "Page unique values: 19\n",
      "+--------------------+\n",
      "|                page|\n",
      "+--------------------+\n",
      "|               About|\n",
      "|          Add Friend|\n",
      "|     Add to Playlist|\n",
      "|              Cancel|\n",
      "|Cancellation Conf...|\n",
      "+--------------------+\n",
      "only showing top 5 rows\n",
      "\n",
      "Registration unique values: 225\n",
      "+-------------+\n",
      "| registration|\n",
      "+-------------+\n",
      "|1521380675000|\n",
      "|1526739206000|\n",
      "|1526838391000|\n",
      "|1528403713000|\n",
      "|1528560242000|\n",
      "+-------------+\n",
      "only showing top 5 rows\n",
      "\n",
      "Sessionid unique values: 2312\n",
      "+---------+\n",
      "|sessionId|\n",
      "+---------+\n",
      "|        1|\n",
      "|        2|\n",
      "|        3|\n",
      "|        4|\n",
      "|        5|\n",
      "+---------+\n",
      "only showing top 5 rows\n",
      "\n",
      "Song unique values: 58481\n",
      "+--------------------+\n",
      "|                song|\n",
      "+--------------------+\n",
      "|                null|\n",
      "|\u001c",
      "ÃÂg ÃÂtti Gr...|\n",
      "| I Will Not Reap ...|\n",
      "|              !@*$%#|\n",
      "|#!*@ You Tonight ...|\n",
      "+--------------------+\n",
      "only showing top 5 rows\n",
      "\n",
      "Status unique values: 3\n",
      "+------+\n",
      "|status|\n",
      "+------+\n",
      "|   200|\n",
      "|   307|\n",
      "|   404|\n",
      "+------+\n",
      "\n",
      "Ts unique values: 269770\n",
      "+-------------+\n",
      "|           ts|\n",
      "+-------------+\n",
      "|1538352117000|\n",
      "|1538352180000|\n",
      "|1538352394000|\n",
      "|1538352416000|\n",
      "|1538352676000|\n",
      "+-------------+\n",
      "only showing top 5 rows\n",
      "\n",
      "Useragent unique values: 56\n",
      "+--------------------+\n",
      "|           userAgent|\n",
      "+--------------------+\n",
      "|\"Mozilla/5.0 (Mac...|\n",
      "|\"Mozilla/5.0 (Mac...|\n",
      "|\"Mozilla/5.0 (Mac...|\n",
      "|\"Mozilla/5.0 (Mac...|\n",
      "|\"Mozilla/5.0 (Mac...|\n",
      "+--------------------+\n",
      "only showing top 5 rows\n",
      "\n",
      "Userid unique values: 225\n",
      "+------+\n",
      "|userId|\n",
      "+------+\n",
      "|    10|\n",
      "|   100|\n",
      "|100001|\n",
      "|100002|\n",
      "|100003|\n",
      "+------+\n",
      "only showing top 5 rows\n",
      "\n"
     ]
    }
   ],
   "source": [
    "for column in df.columns:\n",
    "    print(f'{column.title()} unique values: {df.select(column).dropDuplicates().count()}')\n",
    "    df.select(column).dropDuplicates().sort(column).show(5)\n"
   ]
  },
  {
   "cell_type": "markdown",
   "metadata": {},
   "source": [
    "# Exploratory Data Analysis\n",
    "When you're working with the full dataset, perform EDA by loading a small subset of the data and doing basic manipulations within Spark. In this workspace, you are already provided a small subset of data you can explore.\n",
    "\n",
    "### Define Churn\n",
    "\n",
    "Once you've done some preliminary analysis, create a column `Churn` to use as the label for your model. I suggest using the `Cancellation Confirmation` events to define your churn, which happen for both paid and free users. As a bonus task, you can also look into the `Downgrade` events.\n",
    "\n",
    "### Explore Data\n",
    "Once you've defined churn, perform some exploratory data analysis to observe the behavior for users who stayed vs users who churned. You can start by exploring aggregates on these two groups of users, observing how much of a specific action they experienced per a certain time unit or number of songs played."
   ]
  },
  {
   "cell_type": "code",
   "execution_count": 67,
   "metadata": {},
   "outputs": [],
   "source": [
    "churn = udf(lambda x: int(x==\"Cancellation Confirmation\"), IntegerType())\n",
    "downgrade_churn = udf(lambda x: int(x==\"Submit Downgrade\"), IntegerType())\n",
    "\n",
    "df = df.withColumn(\"downgraded\", downgrade_churn(\"page\")).withColumn(\"cancelled\", churn(\"page\"))"
   ]
  },
  {
   "cell_type": "code",
   "execution_count": 68,
   "metadata": {},
   "outputs": [
    {
     "name": "stdout",
     "output_type": "stream",
     "text": [
      "+-------+------------------+------------------+------------------+\n",
      "|summary|            userId|        downgraded|         cancelled|\n",
      "+-------+------------------+------------------+------------------+\n",
      "|  count|               225|               225|               225|\n",
      "|   mean|65391.013333333336|              0.28|0.2311111111111111|\n",
      "| stddev|105396.47791907164|0.5876709477736184|0.4224832108996327|\n",
      "|    min|                10|                 0|                 0|\n",
      "|    max|                99|                 3|                 1|\n",
      "+-------+------------------+------------------+------------------+\n",
      "\n"
     ]
    }
   ],
   "source": [
    "#distribution of users downgrades and cancellations\n",
    "df.select(['userId', 'downgraded', 'cancelled'])\\\n",
    "    .groupBy('userId').sum()\\\n",
    "    .withColumnRenamed('sum(downgraded)', 'downgraded')\\\n",
    "    .withColumnRenamed('sum(cancelled)', 'cancelled').describe().show()"
   ]
  },
  {
   "cell_type": "code",
   "execution_count": 69,
   "metadata": {},
   "outputs": [],
   "source": [
    "windowval = Window.partitionBy(\"userId\").orderBy(desc(\"ts\")).rangeBetween(Window.unboundedPreceding, 0)"
   ]
  },
  {
   "cell_type": "code",
   "execution_count": 70,
   "metadata": {},
   "outputs": [],
   "source": [
    "df = df.withColumn(\"churn_phase\", Fsum(\"cancelled\").over(windowval))\\\n",
    "    .withColumn(\"downgrade_phase\", Fsum(\"downgraded\").over(windowval))"
   ]
  },
  {
   "cell_type": "code",
   "execution_count": 71,
   "metadata": {},
   "outputs": [],
   "source": [
    "song=udf(lambda x : int(x=='NextSong'), IntegerType())\n",
    "home_visit=udf(lambda x : int(x=='Home'), IntegerType())\n",
    "df = df.withColumn('date', get_day(col('ts')))"
   ]
  },
  {
   "cell_type": "code",
   "execution_count": 72,
   "metadata": {
    "scrolled": true
   },
   "outputs": [
    {
     "name": "stdout",
     "output_type": "stream",
     "text": [
      "+------------------+\n",
      "|   avg(songPlayed)|\n",
      "+------------------+\n",
      "|0.8112072039942939|\n",
      "+------------------+\n",
      "\n",
      "+------------------+\n",
      "|   avg(songPlayed)|\n",
      "+------------------+\n",
      "|0.8217840456084702|\n",
      "+------------------+\n",
      "\n"
     ]
    }
   ],
   "source": [
    "#difference in number of songs played between users who churned and didnt?\n",
    "df.filter(col('churn_phase')==1).withColumn('songPlayed', song(col('page'))).agg({'songPlayed':'mean'}).show()\n",
    "df.filter(col('churn_phase')==0).withColumn('songPlayed', song(col('page'))).agg({'songPlayed':'mean'}).show()"
   ]
  },
  {
   "cell_type": "code",
   "execution_count": 32,
   "metadata": {},
   "outputs": [
    {
     "name": "stdout",
     "output_type": "stream",
     "text": [
      "+----------------------+\n",
      "|avg(count(songPeriod))|\n",
      "+----------------------+\n",
      "|      22.6612702366127|\n",
      "+----------------------+\n",
      "\n",
      "+----------------------+\n",
      "|avg(count(songPeriod))|\n",
      "+----------------------+\n",
      "|     23.79175974187143|\n",
      "+----------------------+\n",
      "\n"
     ]
    }
   ],
   "source": [
    "#number of songs played between home visits\n",
    "cusum = df.filter((df.page == 'NextSong') | (df.page == 'Home')) \\\n",
    "    .select('userID', 'page', 'ts', 'churn_phase') \\\n",
    "    .withColumn('homevisit', home_visit(col('page'))) \\\n",
    "    .withColumn('songPeriod', Fsum('homevisit').over(windowval))\n",
    "\n",
    "cusum.filter((cusum.churn_phase == 1) &(cusum.page == 'NextSong')) \\\n",
    "    .groupBy('userID', 'songPeriod') \\\n",
    "    .agg({'songPeriod':'count'}) \\\n",
    "    .agg({'count(songPeriod)':'avg'}).show()\n",
    "\n",
    "cusum.filter((cusum.churn_phase == 0) &(cusum.page == 'NextSong')) \\\n",
    "    .groupBy('userID', 'songPeriod') \\\n",
    "    .agg({'songPeriod':'count'}) \\\n",
    "    .agg({'count(songPeriod)':'avg'}).show()"
   ]
  },
  {
   "cell_type": "code",
   "execution_count": 61,
   "metadata": {},
   "outputs": [],
   "source": [
    "days = lambda i: i * 86400 \n",
    "daywindow = Window.partitionBy('userId', 'date').orderBy(desc('ts')).rangeBetween(Window.unboundedPreceding, 0)\n",
    "get_day = udf(lambda x: datetime.datetime.fromtimestamp(x/1000), DateType())"
   ]
  },
  {
   "cell_type": "code",
   "execution_count": 74,
   "metadata": {},
   "outputs": [
    {
     "name": "stdout",
     "output_type": "stream",
     "text": [
      "+-------+-----------------+-----------------+\n",
      "|summary|           userId|            count|\n",
      "+-------+-----------------+-----------------+\n",
      "|  count|              499|              499|\n",
      "|   mean|77394.81563126252|72.93386773547094|\n",
      "| stddev|90869.89716037885|71.24764235703725|\n",
      "|    min|           100001|                1|\n",
      "|    max|               87|              346|\n",
      "+-------+-----------------+-----------------+\n",
      "\n",
      "+-------+------------------+-----------------+\n",
      "|summary|            userId|            count|\n",
      "+-------+------------------+-----------------+\n",
      "|  count|              2559|             2559|\n",
      "|   mean| 64501.19812426729|74.91754591637358|\n",
      "| stddev|114144.74005493976|74.02407951472078|\n",
      "|    min|                10|                1|\n",
      "|    max|                99|              360|\n",
      "+-------+------------------+-----------------+\n",
      "\n"
     ]
    }
   ],
   "source": [
    "#number of songs played daily\n",
    "df.filter((df.page=='NextSong')&(col('churn_phase')==1)).select('userId', 'page', 'ts')\\\n",
    "    .withColumn('date', get_day(col('ts'))).groupBy('userId', 'date').count().describe().show()\n",
    "\n",
    "df.filter((df.page=='NextSong')&(col('churn_phase')==0)).select('userId', 'page', 'ts')\\\n",
    "    .withColumn('date', get_day(col('ts'))).groupBy('userId', 'date').count().describe().show()"
   ]
  },
  {
   "cell_type": "code",
   "execution_count": 38,
   "metadata": {},
   "outputs": [
    {
     "name": "stdout",
     "output_type": "stream",
     "text": [
      "+-------+-----------------+-----------------+\n",
      "|summary|           userId|      avg(length)|\n",
      "+-------+-----------------+-----------------+\n",
      "|  count|              499|              499|\n",
      "|   mean|77394.81563126252|248.0824544167563|\n",
      "| stddev|90869.89716037885|23.07628700860933|\n",
      "|    min|           100001|         45.63546|\n",
      "|    max|               87|388.1704313333333|\n",
      "+-------+-----------------+-----------------+\n",
      "\n",
      "+-------+------------------+------------------+\n",
      "|summary|            userId|       avg(length)|\n",
      "+-------+------------------+------------------+\n",
      "|  count|              2559|              2559|\n",
      "|   mean| 64501.19812426729|249.48107841849443|\n",
      "| stddev|114144.74005493976|27.895620078076377|\n",
      "|    min|                10|         139.51955|\n",
      "|    max|                99|         998.42567|\n",
      "+-------+------------------+------------------+\n",
      "\n"
     ]
    }
   ],
   "source": [
    "df.filter((df.page=='NextSong')&(df.churn_phase==1)).select('userId', 'page', 'ts', 'length')\\\n",
    "    .withColumn('date', get_day(col('ts')))\\\n",
    "    .groupBy('userId', 'date').agg({'length':'avg'}).describe().show()\n",
    "\n",
    "df.filter((df.page=='NextSong')&(df.churn_phase==0)).select('userId', 'page', 'ts', 'length')\\\n",
    "    .withColumn('date', get_day(col('ts')))\\\n",
    "    .groupBy('userId', 'date').agg({'length':'avg'}).describe().show()"
   ]
  },
  {
   "cell_type": "code",
   "execution_count": 39,
   "metadata": {},
   "outputs": [
    {
     "name": "stdout",
     "output_type": "stream",
     "text": [
      "+-------+------------------+------------------+\n",
      "|summary|            userId|       count(page)|\n",
      "+-------+------------------+------------------+\n",
      "|  count|                30|                30|\n",
      "|   mean| 90038.96666666666|1.0666666666666667|\n",
      "| stddev|102864.62817988047|0.2537081317024624|\n",
      "|    min|            100001|                 1|\n",
      "|    max|                73|                 2|\n",
      "+-------+------------------+------------------+\n",
      "\n",
      "+-------+------------------+-------------------+\n",
      "|summary|            userId|        count(page)|\n",
      "+-------+------------------+-------------------+\n",
      "|  count|               200|                200|\n",
      "|   mean|         56066.625|                1.1|\n",
      "| stddev|110994.57366660556|0.31702131247412063|\n",
      "|    min|               100|                  1|\n",
      "|    max|                98|                  3|\n",
      "+-------+------------------+-------------------+\n",
      "\n"
     ]
    }
   ],
   "source": [
    "df.filter((df.page=='Error')&(df.churn_phase==1)).select('userId', 'page', 'ts', 'length')\\\n",
    "    .withColumn('date', get_day(col('ts')))\\\n",
    "    .groupBy('userId', 'date').agg({'page':'count'}).select('count(page)').describe().show()\n",
    "\n",
    "df.filter((df.page=='Error')&(df.churn_phase==0)).select('userId', 'page', 'ts', 'length')\\\n",
    "    .withColumn('date', get_day(col('ts')))\\\n",
    "    .groupBy('userId', 'date').agg({'page':'count'}).select('count(page)').describe().show()"
   ]
  },
  {
   "cell_type": "code",
   "execution_count": 42,
   "metadata": {},
   "outputs": [
    {
     "name": "stdout",
     "output_type": "stream",
     "text": [
      "+-------+-----------------+------------------+\n",
      "|summary|           userId|       count(page)|\n",
      "+-------+-----------------+------------------+\n",
      "|  count|              171|               171|\n",
      "|   mean|62613.21052631579|1.3976608187134503|\n",
      "| stddev| 88778.9002607509|0.8078987426633197|\n",
      "|    min|           100001|                 1|\n",
      "|    max|               87|                 6|\n",
      "+-------+-----------------+------------------+\n",
      "\n",
      "+-------+------------------+------------------+\n",
      "|summary|            userId|       count(page)|\n",
      "+-------+------------------+------------------+\n",
      "|  count|               816|               816|\n",
      "|   mean| 63176.38602941176|1.4889705882352942|\n",
      "| stddev|115512.27837413888|0.8636495080491383|\n",
      "|    min|                10|                 1|\n",
      "|    max|                99|                 8|\n",
      "+-------+------------------+------------------+\n",
      "\n"
     ]
    }
   ],
   "source": [
    "df.filter((df.page=='Help')&(df.churn_phase==1)).select('userId', 'page', 'ts', 'length')\\\n",
    "    .withColumn('date', get_day(col('ts')))\\\n",
    "    .groupBy('userId', 'date').agg({'page':'count'}).describe().show()\n",
    "\n",
    "df.filter((df.page=='Help')&(df.churn_phase==0)).select('userId', 'page', 'ts', 'length')\\\n",
    "    .withColumn('date', get_day(col('ts')))\\\n",
    "    .groupBy('userId', 'date').agg({'page':'count'}).describe().show()"
   ]
  },
  {
   "cell_type": "code",
   "execution_count": 29,
   "metadata": {},
   "outputs": [
    {
     "name": "stdout",
     "output_type": "stream",
     "text": [
      "31 21\n"
     ]
    }
   ],
   "source": [
    "#ratio of those who cancelled free/paid\n",
    "print(df.filter((df.page=='Cancellation Confirmation') & (df.level=='paid')).count(),\n",
    "df.filter((df.page=='Cancellation Confirmation') & (df.level=='free')).count())"
   ]
  },
  {
   "cell_type": "code",
   "execution_count": 36,
   "metadata": {},
   "outputs": [
    {
     "name": "stdout",
     "output_type": "stream",
     "text": [
      "49 52\n"
     ]
    }
   ],
   "source": [
    "#number of users who downgraded\n",
    "#number of users to cancel\n",
    "print(df.filter(col('downgraded')==1).select('userId').dropDuplicates().count(), \n",
    "      df.filter(col('cancelled')==1).select('userId').dropDuplicates().count())"
   ]
  },
  {
   "cell_type": "code",
   "execution_count": 35,
   "metadata": {},
   "outputs": [
    {
     "data": {
      "text/plain": [
       "9"
      ]
     },
     "execution_count": 35,
     "metadata": {},
     "output_type": "execute_result"
    }
   ],
   "source": [
    "#users who both downgraded and cancelled\n",
    "df.select(['userId', 'downgraded', 'cancelled'])\\\n",
    "    .groupBy('userId').sum()\\\n",
    "    .withColumnRenamed('sum(downgraded)', 'downgraded')\\\n",
    "    .withColumnRenamed('sum(cancelled)', 'cancelled')\\\n",
    "    .filter((col(\"downgraded\")==1)&(col(\"cancelled\")==1))\\\n",
    "    .count()"
   ]
  },
  {
   "cell_type": "code",
   "execution_count": 37,
   "metadata": {},
   "outputs": [
    {
     "data": {
      "text/plain": [
       "43"
      ]
     },
     "execution_count": 37,
     "metadata": {},
     "output_type": "execute_result"
    }
   ],
   "source": [
    "#number of users to cancel w/o downgrade\n",
    "df.select(['userId', 'downgraded', 'cancelled'])\\\n",
    "    .groupBy('userId').sum()\\\n",
    "    .withColumnRenamed('sum(downgraded)', 'downgraded')\\\n",
    "    .withColumnRenamed('sum(cancelled)', 'cancelled')\\\n",
    "    .filter((col(\"downgraded\")==0)&(col(\"cancelled\")==1))\\\n",
    "    .count()"
   ]
  },
  {
   "cell_type": "code",
   "execution_count": 22,
   "metadata": {},
   "outputs": [
    {
     "name": "stdout",
     "output_type": "stream",
     "text": [
      "31\n"
     ]
    }
   ],
   "source": [
    "#number of paid users to drop without downgrading -> big chunk of those\n",
    "print(df.filter((col('cancelled')==1) & (col('downgraded')==0) & (col('level')=='paid'))\\\n",
    "      .select('userId').dropDuplicates().count())"
   ]
  },
  {
   "cell_type": "code",
   "execution_count": 23,
   "metadata": {},
   "outputs": [
    {
     "name": "stdout",
     "output_type": "stream",
     "text": [
      "+-----------------+\n",
      "|      avg(length)|\n",
      "+-----------------+\n",
      "|248.6327956440622|\n",
      "+-----------------+\n",
      "\n",
      "+------------------+\n",
      "|       avg(length)|\n",
      "+------------------+\n",
      "|249.20913538880808|\n",
      "+------------------+\n",
      "\n"
     ]
    }
   ],
   "source": [
    "#do those who churn or dont have different listening habits?\n",
    "df.filter(col('cancelled')==1).agg({'length':'mean'}).show()\n",
    "df.filter(col('cancelled')==0).agg({'length':'mean'}).show()"
   ]
  },
  {
   "cell_type": "code",
   "execution_count": 43,
   "metadata": {},
   "outputs": [
    {
     "name": "stdout",
     "output_type": "stream",
     "text": [
      "+--------------------+\n",
      "|   avg(registration)|\n",
      "+--------------------+\n",
      "|1.535690562980769...|\n",
      "+--------------------+\n",
      "\n",
      "+--------------------+\n",
      "|   avg(registration)|\n",
      "+--------------------+\n",
      "|1.535358772057175E12|\n",
      "+--------------------+\n",
      "\n"
     ]
    }
   ],
   "source": [
    "#difference in registration time between quitting? -> difference in mean is two days\n",
    "df.filter(col('cancelled')==1).agg({'registration':'mean'}).show()\n",
    "df.filter(col('cancelled')==0).agg({'registration':'mean'}).show()"
   ]
  },
  {
   "cell_type": "markdown",
   "metadata": {},
   "source": [
    "Check if distribution in when user signed up for service. Maybe older members need to be incentivised more\n",
    "- there seems to be no difference"
   ]
  },
  {
   "cell_type": "code",
   "execution_count": 50,
   "metadata": {},
   "outputs": [],
   "source": [
    "registration_num = df.select('userId','registration').dropDuplicates()"
   ]
  },
  {
   "cell_type": "code",
   "execution_count": 54,
   "metadata": {},
   "outputs": [],
   "source": [
    "user_duration_check = df.select(['userId', 'downgraded', 'cancelled', 'registration'])\\\n",
    "    .groupBy('userId').sum()\\\n",
    "    .withColumnRenamed('sum(downgraded)', 'downgraded')\\\n",
    "    .withColumnRenamed('sum(cancelled)', 'cancelled')\\\n",
    "    .join(registration_num, on='userId')"
   ]
  },
  {
   "cell_type": "code",
   "execution_count": 56,
   "metadata": {},
   "outputs": [
    {
     "name": "stdout",
     "output_type": "stream",
     "text": [
      "+-------+--------------------+\n",
      "|summary|        registration|\n",
      "+-------+--------------------+\n",
      "|  count|                 173|\n",
      "|   mean|1.535574755809248...|\n",
      "| stddev|2.9472764868760366E9|\n",
      "|    min|       1521380675000|\n",
      "|    max|       1543247354000|\n",
      "+-------+--------------------+\n",
      "\n",
      "+-------+--------------------+\n",
      "|summary|        registration|\n",
      "+-------+--------------------+\n",
      "|  count|                  52|\n",
      "|   mean|1.535690562980769...|\n",
      "| stddev|2.6165689809729304E9|\n",
      "|    min|       1526739206000|\n",
      "|    max|       1538333829000|\n",
      "+-------+--------------------+\n",
      "\n"
     ]
    }
   ],
   "source": [
    "user_duration_check\\\n",
    "    .filter(col('cancelled')==0).select('registration').describe().show()\n",
    "user_duration_check\\\n",
    "    .filter(col('cancelled')==1).select('registration').describe().show()"
   ]
  },
  {
   "cell_type": "code",
   "execution_count": 41,
   "metadata": {},
   "outputs": [
    {
     "name": "stdout",
     "output_type": "stream",
     "text": [
      "+------+-----+\n",
      "|gender|count|\n",
      "+------+-----+\n",
      "|     F|   20|\n",
      "|     M|   32|\n",
      "+------+-----+\n",
      "\n",
      "+------+------+\n",
      "|gender| count|\n",
      "+------+------+\n",
      "|     F|154558|\n",
      "|     M|123544|\n",
      "+------+------+\n",
      "\n"
     ]
    }
   ],
   "source": [
    "#difference in rates of genders in cancelling - gray area ethically\n",
    "df.filter(col('cancelled')==1).groupBy('gender').count().show()\n",
    "df.filter(col('cancelled')==0).groupBy('gender').count().show()"
   ]
  },
  {
   "cell_type": "markdown",
   "metadata": {},
   "source": [
    "Other options for future analysis:\n",
    "- how many users went to `downgrade` but did not `submit downgrade`\n",
    "- how many users went to `cancel` but did not `submit cancel`\n",
    "- rates of `add friend`"
   ]
  },
  {
   "cell_type": "markdown",
   "metadata": {},
   "source": [
    "# Feature Engineering\n",
    "Once you've familiarized yourself with the data, build out the features you find promising to train your model on. To work with the full dataset, you can follow the following steps.\n",
    "- Write a script to extract the necessary features from the smaller subset of data\n",
    "- Ensure that your script is scalable, using the best practices discussed in Lesson 3\n",
    "- Try your script on the full data set, debugging your script if necessary\n",
    "\n",
    "If you are working in the classroom workspace, you can just extract features based on the small subset of data contained here. Be sure to transfer over this work to the larger dataset when you work on your Spark cluster."
   ]
  },
  {
   "cell_type": "code",
   "execution_count": 114,
   "metadata": {},
   "outputs": [
    {
     "name": "stdout",
     "output_type": "stream",
     "text": [
      "+------+\n",
      "|userId|\n",
      "+------+\n",
      "|100010|\n",
      "|200002|\n",
      "+------+\n",
      "only showing top 2 rows\n",
      "\n"
     ]
    }
   ],
   "source": [
    "#dataframe of user ids to merge onto\n",
    "data = spark.read.json(\"mini_sparkify_event_data.json\")\n",
    "data.show(2)"
   ]
  },
  {
   "cell_type": "code",
   "execution_count": 58,
   "metadata": {},
   "outputs": [],
   "source": [
    "df = data\n",
    "data = df.where((df.userId != \"\") | (df.sessionId != \"\")).select('userId').dropDuplicates() #extract user ids\n",
    "\n",
    "df = df.where((df.userId != \"\") | (df.sessionId != \"\"))"
   ]
  },
  {
   "cell_type": "code",
   "execution_count": 48,
   "metadata": {},
   "outputs": [],
   "source": [
    "churn = udf(lambda x: int(x==\"Cancellation Confirmation\"), IntegerType())\n",
    "downgrade_churn = udf(lambda x: int(x==\"Submit Downgrade\"), IntegerType())\n",
    "visited_downgrade = udf(lambda x: int(x=='Downgrade'), IntegerType())\n",
    "visited_cancel = udf(lambda x: int(x=='Cancel'), IntegerType())"
   ]
  },
  {
   "cell_type": "code",
   "execution_count": 49,
   "metadata": {},
   "outputs": [],
   "source": [
    "avgThumbsUp = df.filter(df.page=='Thumbs Up').select('userId', 'page', 'ts')\\\n",
    "    .withColumn('date', get_day(col('ts')))\\\n",
    "    .groupBy('userId', 'date').agg({'page':'count'}).groupBy('userId')\\\n",
    "    .mean().withColumnRenamed('avg(count(page))', 'avgThumbsUp')"
   ]
  },
  {
   "cell_type": "code",
   "execution_count": 109,
   "metadata": {},
   "outputs": [],
   "source": [
    "avgThumbsDown = df.filter(df.page=='Thumbs Down').select('userId', 'page', 'ts')\\\n",
    "    .withColumn('date', get_day(col('ts')))\\\n",
    "    .groupBy('userId', 'date').agg({'page':'count'}).groupBy('userId')\\\n",
    "    .mean().withColumnRenamed('avg(count(page))', 'avgThumbsDown')"
   ]
  },
  {
   "cell_type": "code",
   "execution_count": 112,
   "metadata": {},
   "outputs": [],
   "source": [
    "numFriends = df.filter(df.page=='Add Friend').select('userId', 'page')\\\n",
    "    .groupBy('userId').count().withColumnRenamed('count', 'numFriends')"
   ]
  },
  {
   "cell_type": "code",
   "execution_count": 81,
   "metadata": {},
   "outputs": [],
   "source": [
    "session = Window.partitionBy(\"userId\", \"sessionId\").orderBy(desc(\"ts\"))"
   ]
  },
  {
   "cell_type": "code",
   "execution_count": 53,
   "metadata": {},
   "outputs": [],
   "source": [
    "song = udf(lambda x: int(x=='NextSong'), IntegerType())\n",
    "days = lambda i: i * 86400 \n",
    "daywindow = Window.partitionBy('userId', 'date').orderBy(desc('ts')).rangeBetween(Window.unboundedPreceding, 0)\n",
    "get_day = udf(lambda x: datetime.datetime.fromtimestamp(x/1000), DateType())"
   ]
  },
  {
   "cell_type": "code",
   "execution_count": 54,
   "metadata": {},
   "outputs": [],
   "source": [
    "skipped = udf(lambda x: int(x!=0), IntegerType())"
   ]
  },
  {
   "cell_type": "code",
   "execution_count": 94,
   "metadata": {},
   "outputs": [],
   "source": [
    "'''\n",
    "process\n",
    "\n",
    "1. dont include thumbs up and down pages because that usually occurs while playing and does not change song\n",
    "2. create variable for if action is song\n",
    "3. check if next action is song - this will check to see if someone is skipping song or just leaving page\n",
    "4. get the difference in timestamp for next action song playing\n",
    "5. subtract the difference in timestamp from song length to see how much of song was skipped\n",
    "6. get descriptive stats\n",
    "'''\n",
    "\n",
    "skipping = df.select('userId', 'page', 'ts', 'length', 'sessionId', 'itemInSession')\\\n",
    "    .where((df.page != 'Thumbs Up') & (df.page != 'Thumbs Down'))\\\n",
    "    .withColumn('song', song('page')).orderBy('userId', 'sessionId', 'itemInSession')\\\n",
    "    .withColumn('nextActSong', lag(col('song')).over(session))\\\n",
    "    .withColumn('tsDiff', (lag('ts').over(session)-col('ts'))/1000)\\\n",
    "    .withColumn('timeSkipped', (floor('length')-col('tsDiff')))\\\n",
    "    .withColumn('roundedLength', floor('length'))\\\n",
    "    .where((col('song')==1) & ((col('nextActSong')!=0)&(col('timeSkipped')>=0)))\\\n",
    "    .withColumn('skipped', skipped('timeSkipped'))\\\n",
    "    .select('userId', 'timeSkipped', 'skipped', 'length', 'ts', 'tsDiff')\\\n",
    "    .groupBy('userId').agg({'skipped':'avg', 'timeSkipped':'avg'})\\\n",
    "    .withColumnRenamed('avg(skipped)', 'skipRate')\\\n",
    "    .withColumnRenamed('avg(timeSkipped)', 'avgTimeSkipped')"
   ]
  },
  {
   "cell_type": "code",
   "execution_count": 95,
   "metadata": {},
   "outputs": [],
   "source": [
    "#avg daily visits to help site\n",
    "dailyHelpVisit = df.filter(df.page=='Help').select('userId', 'page', 'ts', 'length')\\\n",
    "    .withColumn('date', get_day(col('ts')))\\\n",
    "    .groupBy('userId', 'date').agg({'page':'count'}).groupBy('userId').mean()\\\n",
    "                     .withColumnRenamed('avg(count(page))', 'dailyHelpVisits')\n",
    "\n",
    "dailyErrors = df.filter(df.page=='Error').select('userId', 'page', 'ts', 'length')\\\n",
    "    .withColumn('date', get_day(col('ts')))\\\n",
    "    .groupBy('userId', 'date').agg({'page':'count'}).groupBy('userId').mean()\\\n",
    "                     .withColumnRenamed('avg(count(page))', 'dailyErrors')"
   ]
  },
  {
   "cell_type": "code",
   "execution_count": 96,
   "metadata": {},
   "outputs": [],
   "source": [
    "#whether a user has downgraded\n",
    "churn = df.withColumn(\"downgraded\", downgrade_churn(\"page\"))\\\n",
    "    .withColumn(\"cancelled\", churn(\"page\"))\\\n",
    "    .withColumn('visited_cancel', visited_cancel('page'))\\\n",
    "    .withColumn('visited_downgrade', visited_downgrade('page'))\\\n",
    "    .select(['userId', 'downgraded', 'cancelled', 'visited_cancel', 'visited_downgrade'])\\\n",
    "    .groupBy('userId').sum()\\\n",
    "    .withColumnRenamed('sum(downgraded)', 'downgraded')\\\n",
    "    .withColumnRenamed('sum(cancelled)', 'cancelled')\\\n",
    "    .withColumnRenamed('sum(visited_cancel)', 'visited_cancel')\\\n",
    "    .withColumnRenamed('sum(visited_downgrade)', 'visited_downgrade')"
   ]
  },
  {
   "cell_type": "code",
   "execution_count": 97,
   "metadata": {},
   "outputs": [],
   "source": [
    "free = udf(lambda x: int(x=='free'), IntegerType())\n",
    "paid = udf(lambda x: int(x=='paid'), IntegerType())\n",
    "\n",
    "user_level = df.select('userId', 'level').where((df.level=='free')|(df.level=='paid'))\\\n",
    "    .dropDuplicates()\\\n",
    "    .withColumn('free', free('level'))\\\n",
    "    .withColumn('paid', paid('level')).drop('level')"
   ]
  },
  {
   "cell_type": "code",
   "execution_count": 100,
   "metadata": {},
   "outputs": [],
   "source": [
    "home_visit=udf(lambda x : int(x=='Home'), IntegerType())\n",
    "windowval = Window.partitionBy(\"userId\").orderBy(desc(\"ts\")).rangeBetween(Window.unboundedPreceding, 0)\n",
    "\n",
    "cusum = df.filter((df.page == 'NextSong') | (df.page == 'Home')) \\\n",
    "    .select('userID', 'page', 'ts') \\\n",
    "    .withColumn('homevisit', home_visit(col('page'))) \\\n",
    "    .withColumn('songPeriod', Fsum('homevisit').over(windowval))\\"
   ]
  },
  {
   "cell_type": "code",
   "execution_count": 101,
   "metadata": {},
   "outputs": [],
   "source": [
    "avgSongsTillHome = cusum.filter((cusum.page=='NextSong'))\\\n",
    "    .groupBy('userId', 'songPeriod')\\\n",
    "    .agg({'songPeriod':'count'}).drop('songPeriod').groupby('userId').mean()\\\n",
    "    .withColumnRenamed('avg(count(songPeriod))', 'avgSongsTillHome')"
   ]
  },
  {
   "cell_type": "code",
   "execution_count": 115,
   "metadata": {},
   "outputs": [],
   "source": [
    "data = data.join(churn, on='userId')\\\n",
    "    .join(dailyHelpVisit, on='userId')\\\n",
    "    .join(dailyErrors, on='userId')\\\n",
    "    .join(user_level, on='userId')\\\n",
    "    .join(avgThumbsUp, on='userId')\\\n",
    "    .join(avgThumbsDown, on='userId')\\\n",
    "    .join(numFriends, on='userId')\\\n",
    "    .join(avgSongsTillHome, on='userId')\\\n",
    "    .join(skipping, on='userId')"
   ]
  },
  {
   "cell_type": "code",
   "execution_count": 116,
   "metadata": {},
   "outputs": [
    {
     "name": "stdout",
     "output_type": "stream",
     "text": [
      "root\n",
      " |-- userId: string (nullable = true)\n",
      " |-- downgraded: long (nullable = true)\n",
      " |-- cancelled: long (nullable = true)\n",
      " |-- visited_cancel: long (nullable = true)\n",
      " |-- visited_downgrade: long (nullable = true)\n",
      " |-- dailyHelpVisits: double (nullable = true)\n",
      " |-- dailyErrors: double (nullable = true)\n",
      " |-- free: integer (nullable = true)\n",
      " |-- paid: integer (nullable = true)\n",
      " |-- avgThumbsUp: double (nullable = true)\n",
      " |-- avgThumbsDOwn: double (nullable = true)\n",
      " |-- numFriends: long (nullable = false)\n",
      " |-- avgSongsTillHome: double (nullable = true)\n",
      " |-- avgTimeSkipped: double (nullable = true)\n",
      " |-- skipRate: double (nullable = true)\n",
      "\n"
     ]
    }
   ],
   "source": [
    "data.printSchema()"
   ]
  },
  {
   "cell_type": "code",
   "execution_count": 75,
   "metadata": {},
   "outputs": [],
   "source": [
    "def feature_engineering(filepath):\n",
    "    '''\n",
    "    Create necessary features to use machine learning algorithms.\n",
    "    First loads data set from file\n",
    "    \n",
    "    Resulting DF Strucutre:\n",
    "    \n",
    "    root\n",
    "     |-- userId: string\n",
    "     |-- downgraded: long\n",
    "     |-- cancelled: long\n",
    "     |-- visited_cancel: long\n",
    "     |-- visited_downgrade: long\n",
    "     |-- dailyHelpVisits: double\n",
    "     |-- dailyErrors: double\n",
    "     |-- free: integer\n",
    "     |-- paid: integer\n",
    "     |-- avgThumbsUp: double\n",
    "     |-- avgThumbsDOwn: double\n",
    "     |-- numFriends: long\n",
    "     |-- avgSongsTillHome: double\n",
    "     |-- avgTimeSkipped: double\n",
    "     |-- skipRate: double\n",
    "    \n",
    "    Inputs\n",
    "        filepath (str) - path to json dataset on file\n",
    "        \n",
    "    Outputs\n",
    "        data - engineered dataset\n",
    "    '''\n",
    "    #dataframe of user ids to merge onto\n",
    "    df = spark.read.json(filepath)\n",
    "    users = df.where((df.userId != \"\") | (df.sessionId != \"\"))\\\n",
    "        .select('userId').dropDuplicates()\n",
    "    \n",
    "    #define custom functions\n",
    "    churn = udf(lambda x: int(x==\"Cancellation Confirmation\"), IntegerType())\n",
    "    downgrade_churn = udf(lambda x: int(x==\"Submit Downgrade\"), IntegerType())\n",
    "    visited_downgrade = udf(lambda x: int(x=='Downgrade'), IntegerType())\n",
    "    visited_cancel = udf(lambda x: int(x=='Cancel'), IntegerType())\n",
    "    song = udf(lambda x: int(x=='NextSong'), IntegerType())\n",
    "    days = lambda i: i * 86400 \n",
    "    get_day = udf(lambda x: datetime.datetime.fromtimestamp(x/1000), DateType())\n",
    "    skipped = udf(lambda x: int(x!=0), IntegerType())\n",
    "    free = udf(lambda x: int(x=='free'), IntegerType())\n",
    "    paid = udf(lambda x: int(x=='paid'), IntegerType())\n",
    "    home_visit=udf(lambda x : int(x=='Home'), IntegerType())\n",
    "    \n",
    "    #define windows\n",
    "    windowval = Window.partitionBy(\"userId\").orderBy(desc(\"ts\")).rangeBetween(Window.unboundedPreceding, 0)\n",
    "    session = Window.partitionBy(\"userId\", \"sessionId\").orderBy(desc(\"ts\"))\n",
    "    daywindow = Window.partitionBy('userId', 'date').orderBy(desc('ts'))\\\n",
    "        .rangeBetween(Window.unboundedPreceding, 0)\n",
    "\n",
    "    avgThumbsUp = df.filter(df.page=='Thumbs Up')\\\n",
    "        .select('userId', 'page', 'ts')\\\n",
    "        .withColumn('date', get_day(col('ts')))\\\n",
    "        .groupBy('userId', 'date').agg({'page':'count'}).groupBy('userId')\\\n",
    "        .mean().withColumnRenamed('avg(count(page))', 'avgThumbsUp')\n",
    "    \n",
    "    avgThumbsDown = df.filter(df.page=='Thumbs Down')\\\n",
    "        .select('userId', 'page', 'ts')\\\n",
    "        .withColumn('date', get_day(col('ts')))\\\n",
    "        .groupBy('userId', 'date').agg({'page':'count'})\\\n",
    "        .groupBy('userId').mean()\\\n",
    "        .withColumnRenamed('avg(count(page))', 'avgThumbsDown')\n",
    "    \n",
    "    numFriends = df.filter(df.page=='Add Friend')\\\n",
    "        .select('userId', 'page')\\\n",
    "        .groupBy('userId').count().withColumnRenamed('count', 'numFriends')\n",
    "    \n",
    "    '''\n",
    "    process for calculating skipping variables\n",
    "\n",
    "    1. dont include thumbs up and down pages because that usually occurs \n",
    "        while playing and does not change song\n",
    "    2. create variable for if action is song\n",
    "    3. check if next action is song - this will check to see if someone is \n",
    "        skipping song or just leaving page\n",
    "    4. get the difference in timestamp for next action song playing\n",
    "    5. subtract the difference in timestamp from song length to see \n",
    "        how much of song was skipped\n",
    "    6. get descriptive stats\n",
    "    '''\n",
    "\n",
    "    skipping = df.select('userId', 'page', 'ts', 'length', 'sessionId', 'itemInSession')\\\n",
    "        .where((df.page != 'Thumbs Up') & (df.page != 'Thumbs Down'))\\\n",
    "        .withColumn('song', song('page')).orderBy('userId', 'sessionId', 'itemInSession')\\\n",
    "        .withColumn('nextActSong', lag(col('song')).over(session))\\\n",
    "        .withColumn('tsDiff', (lag('ts').over(session)-col('ts'))/1000)\\\n",
    "        .withColumn('timeSkipped', (floor('length')-col('tsDiff')))\\\n",
    "        .withColumn('roundedLength', floor('length'))\\\n",
    "        .where((col('song')==1) & ((col('nextActSong')!=0)&(col('timeSkipped')>=0)))\\\n",
    "        .withColumn('skipped', skipped('timeSkipped'))\\\n",
    "        .select('userId', 'timeSkipped', 'skipped', 'length', 'ts', 'tsDiff')\\\n",
    "        .groupBy('userId').agg({'skipped':'avg', 'timeSkipped':'avg'})\\\n",
    "        .withColumnRenamed('avg(skipped)', 'skipRate')\\\n",
    "        .withColumnRenamed('avg(timeSkipped)', 'avgTimeSkipped')\n",
    "    \n",
    "#avg daily visits to help site\n",
    "    dailyHelpVisit = df.filter(df.page=='Help')\\\n",
    "        .select('userId', 'page', 'ts', 'length')\\\n",
    "        .withColumn('date', get_day(col('ts')))\\\n",
    "        .groupBy('userId', 'date').agg({'page':'count'})\\\n",
    "        .groupBy('userId').mean()\\\n",
    "         .withColumnRenamed('avg(count(page))', 'dailyHelpVisits')\n",
    "\n",
    "    dailyErrors = df.filter(df.page=='Error')\\\n",
    "        .select('userId', 'page', 'ts', 'length')\\\n",
    "        .withColumn('date', get_day(col('ts')))\\\n",
    "        .groupBy('userId', 'date').agg({'page':'count'})\\\n",
    "        .groupBy('userId').mean()\\\n",
    "        .withColumnRenamed('avg(count(page))', 'dailyErrors')\n",
    "    \n",
    "    #whether a user has downgraded\n",
    "    churn = df.withColumn(\"downgraded\", downgrade_churn(\"page\"))\\\n",
    "        .withColumn(\"cancelled\", churn(\"page\"))\\\n",
    "        .withColumn('visited_cancel', visited_cancel('page'))\\\n",
    "        .withColumn('visited_downgrade', visited_downgrade('page'))\\\n",
    "        .select(['userId', 'downgraded', 'cancelled', 'visited_cancel', 'visited_downgrade'])\\\n",
    "        .groupBy('userId').sum()\\\n",
    "        .withColumnRenamed('sum(downgraded)', 'downgraded')\\\n",
    "        .withColumnRenamed('sum(cancelled)', 'cancelled')\\\n",
    "        .withColumnRenamed('sum(visited_cancel)', 'visited_cancel')\\\n",
    "        .withColumnRenamed('sum(visited_downgrade)', 'visited_downgrade')\n",
    "\n",
    "    user_level = df.select('userId', 'level')\\\n",
    "        .where((df.level=='free')|(df.level=='paid'))\\\n",
    "        .dropDuplicates()\\\n",
    "        .withColumn('free', free('level'))\\\n",
    "        .withColumn('paid', paid('level')).drop('level')\n",
    "\n",
    "    cusum = df.filter((df.page == 'NextSong') | (df.page == 'Home')) \\\n",
    "        .select('userID', 'page', 'ts') \\\n",
    "        .withColumn('homevisit', home_visit(col('page'))) \\\n",
    "        .withColumn('songPeriod', Fsum('homevisit').over(windowval))\\\n",
    "    \n",
    "    avgSongsTillHome = cusum.filter((cusum.page=='NextSong'))\\\n",
    "        .groupBy('userId', 'songPeriod')\\\n",
    "        .agg({'songPeriod':'count'}).drop('songPeriod')\\\n",
    "        .groupby('userId').mean()\\\n",
    "        .withColumnRenamed('avg(count(songPeriod))', 'avgSongsTillHome')\n",
    "    \n",
    "    df = users.join(churn, on='userId')\\\n",
    "        .join(dailyHelpVisit, on='userId')\\\n",
    "        .join(dailyErrors, on='userId')\\\n",
    "        .join(user_level, on='userId')\\\n",
    "        .join(avgThumbsUp, on='userId')\\\n",
    "        .join(avgThumbsDown, on='userId')\\\n",
    "        .join(numFriends, on='userId')\\\n",
    "        .join(avgSongsTillHome, on='userId')\\\n",
    "        .join(skipping, on='userId')"
   ]
  },
  {
   "cell_type": "markdown",
   "metadata": {},
   "source": [
    "# Modeling\n",
    "Split the full dataset into train, test, and validation sets. Test out several of the machine learning methods you learned. Evaluate the accuracy of the various models, tuning parameters as necessary. Determine your winning model based on test accuracy and report results on the validation set. Since the churned users are a fairly small subset, I suggest using F1 score as the metric to optimize."
   ]
  },
  {
   "cell_type": "code",
   "execution_count": null,
   "metadata": {},
   "outputs": [],
   "source": [
    "train, rest = data.randomSplit([0.85, 0.15], seed=42)\n",
    "validation, test = rest.randomSplit([0.5,0.5], seed=42)\n"
   ]
  },
  {
   "cell_type": "code",
   "execution_count": null,
   "metadata": {},
   "outputs": [],
   "source": [
    "pipeline=Pipeline(stages=[])\n",
    "paramGrid=ParamGridBuilder()\\\n",
    "    .addGrid()\\\n",
    "    .build()\n",
    "\n",
    "\n",
    "cross_val = CrossValidator(estimator=pipeline,\n",
    "                           estimatorParamMaps=paramGrid,\n",
    "                           evaluator= ,\n",
    "                           numFolds=4)"
   ]
  },
  {
   "cell_type": "markdown",
   "metadata": {},
   "source": [
    "# Final Steps\n",
    "Clean up your code, adding comments and renaming variables to make the code easier to read and maintain. Refer to the Spark Project Overview page and Data Scientist Capstone Project Rubric to make sure you are including all components of the capstone project and meet all expectations. Remember, this includes thorough documentation in a README file in a Github repository, as well as a web app or blog post."
   ]
  },
  {
   "cell_type": "code",
   "execution_count": null,
   "metadata": {},
   "outputs": [],
   "source": []
  }
 ],
 "metadata": {
  "kernelspec": {
   "display_name": "Python 3",
   "language": "python",
   "name": "python3"
  },
  "language_info": {
   "codemirror_mode": {
    "name": "ipython",
    "version": 3
   },
   "file_extension": ".py",
   "mimetype": "text/x-python",
   "name": "python",
   "nbconvert_exporter": "python",
   "pygments_lexer": "ipython3",
   "version": "3.6.3"
  }
 },
 "nbformat": 4,
 "nbformat_minor": 2
}
